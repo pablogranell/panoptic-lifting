# Libraries needed beacuse of space and threading limitations
from pathlib import Path
from threading import Thread
# Temporary directory to download and install packages
TMP_DIR = Path('../temp')
TMP_DIR.mkdir(exist_ok=True)
# Change to temporary directory for the rest of the session
%cd /kaggle/temp/
#Accelerate the installation of packages by making the C compiler for each pip install use all available cores
!export MAKEFLAGS="-j$(nproc)"
# Install a package using pip
def install_package(package):
    !pip install --disable-pip-version-check $package
#Install hypershell and start the server. It creates a server that allows to connect to the notebook from a terminal via UDP hole punching.
# Highly recomended. Please check: https://github.com/holepunchto/hypershell
def shell():
    !npm i -g hypershell
    !hypershell-server --disable-firewall
# Download the dataset from Kaggle and unzip it
def drive():
    !pip install -q kaggle && mkdir /root/.kaggle
    # Add your Kaggle username and API key to the environment and fix permissions
    !echo "{\"username\":\"pablogranell\",\"key\":\"59d2a8b7f9b34288aa69371796c00866\"}" > /root/.kaggle/kaggle.json && chmod 600 /root/.kaggle/kaggle.json
    !kaggle datasets download "pablogranell/panoptic-lifting" --unzip -p /kaggle/temp/

# Start the shell and donwload of the dataset (11GB total) as fast as possible
Thread(target=shell, args=('')).start()
Thread(target=drive, args=('')).start()
# Clone the fork of the repository of the project. Changes mostly to fix the proyect in the kaggle enviroment.
# Also a bug was found in the original repository that was fixed in this fork. 
!git clone https://github.com/pablogranell/panoptic-lifting.git
# Change to the directory of the repository for the rest of the session
%cd panoptic-lifting
#Create a conda environment and activate it.
!conda create -n panoli -c cctbx202208 python -y
!source /opt/conda/bin/activate panoli
#Symlink the python and pip executables to the conda environment
!sudo ln -sf /opt/conda/envs/panoli/bin/python /opt/conda/bin/python && sudo ln -sf /opt/conda/envs/panoli/bin/pip /opt/conda/bin/pip
#Add the repository to the python path so that the local modules can be imported
!echo "/kaggle/temp/panoptic-lifting/" > /opt/conda/envs/panoli/lib/python3.10/site-packages/path.pth

# Install the packages needed for the project from the requirements file.
#This is needed to fix the dependencies since pip install -r requirements.txt does not work correctly in kaggle.
with open('requirements.txt', 'r') as file:
    packages = [line.strip() for line in file.readlines()]
for package in packages:
    #You can try to install the packages in parallel to speed up the process but it may fail.
    #Thread(target=install_package, args=(package,)).start()
    install_package(package)

%cd /kaggle/temp/panoptic-lifting/
!python inference/render_panopli.py pretrained-examples/hypersim_ai001008/checkpoints/epoch=30-step=590148.ckpt False
